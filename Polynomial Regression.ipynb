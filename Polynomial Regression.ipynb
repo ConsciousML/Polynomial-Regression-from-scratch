{
 "cells": [
  {
   "cell_type": "markdown",
   "metadata": {},
   "source": [
    "# Polynomial Regression From Scratch\n",
    "During this experiment, we will see how polynomial regression works.<br/>\n",
    "Pytorch is the framework we will be using in this notebook."
   ]
  },
  {
   "cell_type": "code",
   "execution_count": 538,
   "metadata": {},
   "outputs": [],
   "source": [
    "import torch\n",
    "import numpy as np\n",
    "import matplotlib.pyplot as plt"
   ]
  },
  {
   "cell_type": "markdown",
   "metadata": {},
   "source": [
    "### Generate a polynomial distribution with random noise"
   ]
  },
  {
   "cell_type": "code",
   "execution_count": 539,
   "metadata": {},
   "outputs": [],
   "source": [
    "X = torch.tensor([i for i in range(-30, 30)]).float()"
   ]
  },
  {
   "cell_type": "code",
   "execution_count": 540,
   "metadata": {},
   "outputs": [],
   "source": [
    "def randvec(r1, r2, shape):\n",
    "    return (r1 - r2) * torch.rand(shape) + r2"
   ]
  },
  {
   "cell_type": "code",
   "execution_count": 541,
   "metadata": {},
   "outputs": [],
   "source": [
    "y = randvec(-1e4, 1e4, X.shape) - (1/2) * X + 3 * X.pow(2) - (6/4) * X.pow(3)"
   ]
  },
  {
   "cell_type": "code",
   "execution_count": 542,
   "metadata": {},
   "outputs": [
    {
     "data": {
      "text/plain": [
       "<matplotlib.collections.PathCollection at 0x2ac7bc74a48>"
      ]
     },
     "execution_count": 542,
     "metadata": {},
     "output_type": "execute_result"
    },
    {
     "data": {
      "image/png": "[encoded data removed]",
      "text/plain": [
       "<Figure size 432x288 with 1 Axes>"
      ]
     },
     "metadata": {
      "needs_background": "light"
     },
     "output_type": "display_data"
    }
   ],
   "source": [
    "plt.scatter(X, y)"
   ]
  },
  {
   "cell_type": "markdown",
   "metadata": {},
   "source": [
    "### Create the features\n",
    "The formula of linear regression is as follow:<br>\n",
    "$\\boldsymbol{y} = \\boldsymbol{X}\\boldsymbol{w}$<br>\n",
    "where $\\boldsymbol{y}$ is the target, $\\boldsymbol{w}$ are the weights learned by the model and $\\boldsymbol{X}$ is training data.<br>\n",
    "Polynomial regression is still considered as a linear regression because there is only linear learning parameters:<br>\n",
    "$\\boldsymbol{y} = \\boldsymbol{w}_0 + \\boldsymbol{X}\\boldsymbol{w}_1 + \\boldsymbol{X}^2\\boldsymbol{w}_2 + \\dots + \\boldsymbol{X}^n\\boldsymbol{w}_n$<br>\n",
    "As you have probably guessed, this equation is not linear. We use a trick to make it linear:\n",
    "- We consider all the $\\boldsymbol{X}^2$ to $\\boldsymbol{X}^n$ as new features that we created and we concatenate them to $\\boldsymbol{X}$.\n",
    "- All the $\\boldsymbol{w}_1$ to $\\boldsymbol{w}_n$ are concatenated to $\\boldsymbol{w}_0$.\n",
    "At the end, the polynomial regression has the same formula as the linear regression."
   ]
  },
  {
   "cell_type": "code",
   "execution_count": 547,
   "metadata": {},
   "outputs": [],
   "source": [
    "def create_features(X, degree=2, standardize=True):\n",
    "    if len(X.shape) == 1:\n",
    "        X = X.unsqueeze(1)\n",
    "    # Concatenate a column of ones to has the bias in X\n",
    "    ones_col = torch.ones((X.shape[0], 1), dtype=torch.float32)\n",
    "    X_d = torch.cat([ones_col, X], axis=1)\n",
    "    for i in range(1, degree):\n",
    "        X_pow = X.pow(i + 1)\n",
    "        # If we use the gradient descent method, we need to\n",
    "        # standardize the features to avoid exploding gradients\n",
    "        if standardize:\n",
    "            X_pow -= X_pow.mean()\n",
    "            std = X_pow.std()\n",
    "            if std != 0:\n",
    "                X_pow /= std\n",
    "        X_d = torch.cat([X_d, X_pow], axis=1)\n",
    "    return X_d"
   ]
  },
  {
   "cell_type": "code",
   "execution_count": 548,
   "metadata": {},
   "outputs": [],
   "source": [
    "features = create_features(X, degree=3, standardize=False)"
   ]
  },
  {
   "cell_type": "code",
   "execution_count": 549,
   "metadata": {},
   "outputs": [],
   "source": [
    "def predict(features, weights):\n",
    "    return features.mm(weights)"
   ]
  },
  {
   "cell_type": "code",
   "execution_count": 550,
   "metadata": {},
   "outputs": [],
   "source": [
    "y_true = y.unsqueeze(1)"
   ]
  },
  {
   "cell_type": "markdown",
   "metadata": {},
   "source": [
    "### Method 1: Normal equation\n",
    "The first method is analytical and uses the normal equation.\n",
    "Training a linear model using least square regression is equivalent to minimize the mean squared error:\n",
    "\n",
    "$$\n",
    "\\begin{align}\n",
    "\\text{MSE} &= \\frac{1}{n}\\sum_{i=1}^{n}{||\\hat{y}_i - y_i ||_{2}^{2}} \\\\\n",
    "\\text{MSE} &= \\frac{1}{n}||\\boldsymbol{X}\\boldsymbol{w} - \\boldsymbol{y} ||_2^2\n",
    "\\end{align}\n",
    "$$\n",
    "\n",
    "where $n$ is the number of samples, $\\hat{y}$ is the predicted value of the model and $y$ is the true target.<br/>\n",
    "The prediction $\\hat{y}$ is obtained by matrix multiplication between the input $\\boldsymbol{X}$ and the weights of the model $\\boldsymbol{w}$.<br/>\n",
    "\n",
    "Minizing the $\\text{MSE}$ can be achieved by solving the gradient of this equation equals to zero in regards to the weights $\\boldsymbol{w}$:\n",
    "\n",
    "$$\n",
    "\\begin{align}\n",
    "\\nabla_{\\boldsymbol{w}}\\text{MSE} &= 0 \\\\\n",
    "(\\boldsymbol{X}^\\top \\boldsymbol{X})^{-1}\\boldsymbol{X}^\\top \\boldsymbol{y} &= \\boldsymbol{w}\n",
    "\\end{align}\n",
    "$$\n",
    "\n",
    "For more information on how to find $\\boldsymbol{w}$ please visit the section \"Linear Least Squares\" of the following link:<br/> https://en.wikipedia.org/wiki/Least_squares#:~:text=The%20linear%20least%2Dsquares%20problem,is%20similar%20in%20both%20cases."
   ]
  },
  {
   "cell_type": "code",
   "execution_count": 551,
   "metadata": {},
   "outputs": [],
   "source": [
    "def normal_equation(y_true, X):\n",
    "    XTX_inv = (X.T.mm(X)).inverse()\n",
    "    XTy = X.T.mm(y_true)\n",
    "    weights = XTX_inv.mm(XTy)\n",
    "    return weights"
   ]
  },
  {
   "cell_type": "code",
   "execution_count": 552,
   "metadata": {},
   "outputs": [],
   "source": [
    "weights = normal_equation(y_true, features)"
   ]
  },
  {
   "cell_type": "code",
   "execution_count": 553,
   "metadata": {},
   "outputs": [],
   "source": [
    "y_pred = predict(features, weights)"
   ]
  },
  {
   "cell_type": "code",
   "execution_count": 520,
   "metadata": {},
   "outputs": [],
   "source": [
    "# Mean Squared Error\n",
    "def mse(y_true, y_pred):\n",
    "    e = y_true - y_pred\n",
    "    return e.T.mm(e) / y_true.shape[0]"
   ]
  },
  {
   "cell_type": "code",
   "execution_count": 529,
   "metadata": {},
   "outputs": [
    {
     "name": "stdout",
     "output_type": "stream",
     "text": [
      "tensor([[31267848.]])\n"
     ]
    }
   ],
   "source": [
    "print(mse(y_true, y_pred))"
   ]
  },
  {
   "cell_type": "code",
   "execution_count": 530,
   "metadata": {},
   "outputs": [
    {
     "data": {
      "text/plain": [
       "[<matplotlib.lines.Line2D at 0x2ac7bb7ba88>]"
      ]
     },
     "execution_count": 530,
     "metadata": {},
     "output_type": "execute_result"
    },
    {
     "data": {
      "image/png": "[encoded data removed]",
      "text/plain": [
       "<Figure size 432x288 with 1 Axes>"
      ]
     },
     "metadata": {
      "needs_background": "light"
     },
     "output_type": "display_data"
    }
   ],
   "source": [
    "plt.scatter(X, y)\n",
    "plt.plot(X, y_pred, c='red')"
   ]
  },
  {
   "cell_type": "markdown",
   "metadata": {},
   "source": [
    "With the normal equation method, the polynomial regressor fits well the synthetic data."
   ]
  },
  {
   "cell_type": "markdown",
   "metadata": {},
   "source": [
    "### Method 2: Gradient Descent\n",
    " The Gradient descent method takes steps proportional to the negative of the gradient of a function at a given point, in order to iteratively minimize the objective function.<br> The gradient generalizes the notion of derivative to the case where the derivative is with respect to a vector: the gradient of $f$ is the vector containing all of the partial derivatives, denoted $\\nabla_{\\boldsymbol{x}}f(\\boldsymbol{x})$.<br>\n",
    " \n",
    " The directional derivative in direction $\\boldsymbol{u}$ (a unit vector) is the slope of the function $f$ in direction $\\boldsymbol{u}$. In other words, the directional derivative is the derivative of the function $f(\\boldsymbol{x} + \\sigma \\boldsymbol{u})$ with respect to $\\sigma$ close to 0. To minimize $f$, we would like to find the direction in which $f$ decreases the fastest. We can do this using the directional derivative:\n",
    " $$\n",
    "\\begin{align}\n",
    "            &\\min_{\\boldsymbol{u}, \\boldsymbol{u}^\\top \\boldsymbol{u} = 1}{\\boldsymbol{u}^\\top \\nabla_{\\boldsymbol{x}} f(\\boldsymbol{x})} \\\\\n",
    "            = &\\min_{\\boldsymbol{u}, \\boldsymbol{u}^\\top \\boldsymbol{u} = 1}{||\\boldsymbol{u}||_2 ||\\nabla_{\\boldsymbol{x}}f(\\boldsymbol{x})||_2 \\cos \\theta}\n",
    "\\end{align}\n",
    "$$\n",
    "ignoring factors that do not depend on $\\boldsymbol{u}$, this simplifies to $\\min_{u}{\\cos \\theta}$. This is minimized when $\\boldsymbol{u}$ points in the opposite direction as the gradient. Each step of the gradient descent method proposes a new points:\n",
    "$$\n",
    "\\begin{equation}\n",
    "    \\boldsymbol{x'} = \\boldsymbol{x} - \\epsilon \\nabla_{\\boldsymbol{x}}f(\\boldsymbol{x})\n",
    "\\end{equation}\n",
    "$$\n",
    "where $\\epsilon$ is the learning rate.<br>\n",
    "In the context of polynomial regression, the gradient descent is as follow:\n",
    "$$\n",
    "\\begin{equation}\n",
    "    \\boldsymbol{w} = \\boldsymbol{w} - \\epsilon \\nabla_{\\boldsymbol{w}}\\text{MSE}\n",
    "\\end{equation}\n",
    "$$<br>\n",
    "where:\n",
    "$$\n",
    "\\begin{align}\n",
    "\\nabla_{\\boldsymbol{w}}\\text{MSE} &= \\nabla_{\\boldsymbol{w}}\\left(\\frac{1}{n}{||\\boldsymbol{X}\\boldsymbol{w} - \\boldsymbol{y} ||_2^2}\\right)\\\\\n",
    "&= \\frac{2}{N}\\boldsymbol{X}^\\top(\\boldsymbol{X}\\boldsymbol{w} - \\boldsymbol{y})\n",
    "\\end{align}\n",
    "$$"
   ]
  },
  {
   "cell_type": "code",
   "execution_count": 555,
   "metadata": {},
   "outputs": [],
   "source": [
    "def gradient_descent(X, y_true, lr=0.001, it=30000):\n",
    "    weights_gd = torch.ones((X.shape[1], 1))\n",
    "    n = X.shape[0]\n",
    "    fact = 2 / n\n",
    "    for _ in range(it):\n",
    "        y_pred = predict(X, weights_gd)\n",
    "        grad = fact * X.T.mm(y_pred - y_true)\n",
    "        weights_gd -= lr * grad\n",
    "    return weights_gd"
   ]
  },
  {
   "cell_type": "code",
   "execution_count": 532,
   "metadata": {},
   "outputs": [],
   "source": [
    "features = create_features(X, degree=3, standardize=True)\n",
    "weights_gd = gradient_descent(features, y_true)"
   ]
  },
  {
   "cell_type": "code",
   "execution_count": 533,
   "metadata": {},
   "outputs": [],
   "source": [
    "pred_gd = predict(features, weights_gd)"
   ]
  },
  {
   "cell_type": "code",
   "execution_count": 554,
   "metadata": {},
   "outputs": [
    {
     "name": "stdout",
     "output_type": "stream",
     "text": [
      "tensor([[29417112.]])\n"
     ]
    }
   ],
   "source": [
    "print(mse(y_true, pred_gd))"
   ]
  },
  {
   "cell_type": "markdown",
   "metadata": {},
   "source": [
    "The mean squared error is even lower when using gradient descent."
   ]
  },
  {
   "cell_type": "code",
   "execution_count": 556,
   "metadata": {},
   "outputs": [
    {
     "data": {
      "text/plain": [
       "[<matplotlib.lines.Line2D at 0x2ac7bc9be08>]"
      ]
     },
     "execution_count": 556,
     "metadata": {},
     "output_type": "execute_result"
    },
    {
     "data": {
      "image/png": "[encoded data removed]",
      "text/plain": [
       "<Figure size 432x288 with 1 Axes>"
      ]
     },
     "metadata": {
      "needs_background": "light"
     },
     "output_type": "display_data"
    }
   ],
   "source": [
    "plt.scatter(X, y)\n",
    "plt.plot(X, pred_gd, c='red')"
   ]
  },
  {
   "cell_type": "markdown",
   "metadata": {},
   "source": [
    "### Conclusion\n",
    "The polynomial regression is an appropriate example to visit both the concept of normal equation and gradient descent."
   ]
  }
 ],
 "metadata": {
  "kernelspec": {
   "display_name": "Python 3",
   "language": "python",
   "name": "python3"
  },
  "language_info": {
   "codemirror_mode": {
    "name": "ipython",
    "version": 3
   },
   "file_extension": ".py",
   "mimetype": "text/x-python",
   "name": "python",
   "nbconvert_exporter": "python",
   "pygments_lexer": "ipython3",
   "version": "3.7.7"
  }
 },
 "nbformat": 4,
 "nbformat_minor": 4
}
