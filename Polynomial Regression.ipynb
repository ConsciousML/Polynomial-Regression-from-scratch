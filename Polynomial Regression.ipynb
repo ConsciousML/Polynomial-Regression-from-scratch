{
 "cells": [
  {
   "cell_type": "code",
   "execution_count": 257,
   "metadata": {},
   "outputs": [],
   "source": [
    "import torch\n",
    "import numpy as np\n",
    "import matplotlib.pyplot as plt"
   ]
  },
  {
   "cell_type": "code",
   "execution_count": 258,
   "metadata": {},
   "outputs": [],
   "source": [
    "X = torch.tensor([i for i in range(-50, 50)]).float()"
   ]
  },
  {
   "cell_type": "code",
   "execution_count": 259,
   "metadata": {},
   "outputs": [],
   "source": [
    "def randvec(r1, r2, shape):\n",
    "    return (r1 - r2) * torch.rand(shape) + r2"
   ]
  },
  {
   "cell_type": "code",
   "execution_count": 260,
   "metadata": {},
   "outputs": [],
   "source": [
    "y = randvec(-500, 500, X.shape) + X + X.pow(2)"
   ]
  },
  {
   "cell_type": "code",
   "execution_count": 261,
   "metadata": {},
   "outputs": [
    {
     "data": {
      "text/plain": [
       "<matplotlib.collections.PathCollection at 0x1de4abe7bc8>"
      ]
     },
     "execution_count": 261,
     "metadata": {},
     "output_type": "execute_result"
    },
    {
     "data": {
      "image/png": "[encoded data removed]",
      "text/plain": [
       "<Figure size 432x288 with 1 Axes>"
      ]
     },
     "metadata": {
      "needs_background": "light"
     },
     "output_type": "display_data"
    }
   ],
   "source": [
    "plt.scatter(X, y)"
   ]
  },
  {
   "cell_type": "code",
   "execution_count": 262,
   "metadata": {},
   "outputs": [],
   "source": [
    "def mse(y_true, y_pred):\n",
    "    (y_true - y_pred).pow(2).mean()"
   ]
  },
  {
   "cell_type": "code",
   "execution_count": 263,
   "metadata": {},
   "outputs": [],
   "source": [
    "def create_features(X, degree=2):\n",
    "    features = []\n",
    "    for i in range(0, degree):\n",
    "        if i != 0:\n",
    "            X_d = X.pow(i)\n",
    "        else:\n",
    "            X_d = X\n",
    "        X_d -= X_d.mean()\n",
    "        std = X_d.std()\n",
    "        \n",
    "        if std != 0:\n",
    "            X_d /= std\n",
    "            \n",
    "        if len(X_d.shape) == 1:\n",
    "            X_d = X_d.unsqueeze(1)\n",
    "            \n",
    "        if i == 0:\n",
    "            ones_col = torch.ones((X_d.shape[0], 1), dtype=torch.float32)\n",
    "            X_d = torch.cat([ones_col, X_d], axis=1)\n",
    "        features.append(X_d)\n",
    "    return features"
   ]
  },
  {
   "cell_type": "code",
   "execution_count": 264,
   "metadata": {},
   "outputs": [],
   "source": [
    "features = create_features(X)"
   ]
  },
  {
   "cell_type": "code",
   "execution_count": 271,
   "metadata": {},
   "outputs": [],
   "source": [
    "def get_weights_col(X):\n",
    "    return torch.normal(torch.zeros(X.shape[1]), torch.ones(X.shape[1])).unsqueeze(1)\n",
    "\n",
    "def create_weights(features, degree):\n",
    "    weights = []\n",
    "    for i in range(degree):\n",
    "        weights.append(get_weights_col(features[i]))\n",
    "    return weights"
   ]
  },
  {
   "cell_type": "code",
   "execution_count": 272,
   "metadata": {},
   "outputs": [],
   "source": [
    "weights = create_weights(features, 2)"
   ]
  },
  {
   "cell_type": "code",
   "execution_count": 281,
   "metadata": {},
   "outputs": [],
   "source": [
    "def predict(features, weights):\n",
    "    pred = 0\n",
    "    for i in range(len(features)):\n",
    "        pred += features[i].mm(weights[i])\n",
    "    return pred"
   ]
  },
  {
   "cell_type": "code",
   "execution_count": 283,
   "metadata": {},
   "outputs": [
    {
     "name": "stdout",
     "output_type": "stream",
     "text": [
      "torch.Size([2, 1])\n",
      "torch.Size([100, 2])\n",
      "torch.Size([1, 1])\n",
      "torch.Size([100, 1])\n"
     ]
    },
    {
     "data": {
      "text/plain": [
       "torch.Size([100, 1])"
      ]
     },
     "execution_count": 283,
     "metadata": {},
     "output_type": "execute_result"
    }
   ],
   "source": [
    "predict(features, weights)"
   ]
  },
  {
   "cell_type": "code",
   "execution_count": null,
   "metadata": {},
   "outputs": [],
   "source": []
  }
 ],
 "metadata": {
  "kernelspec": {
   "display_name": "Python 3",
   "language": "python",
   "name": "python3"
  },
  "language_info": {
   "codemirror_mode": {
    "name": "ipython",
    "version": 3
   },
   "file_extension": ".py",
   "mimetype": "text/x-python",
   "name": "python",
   "nbconvert_exporter": "python",
   "pygments_lexer": "ipython3",
   "version": "3.7.7"
  }
 },
 "nbformat": 4,
 "nbformat_minor": 4
}
